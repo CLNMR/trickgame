{
 "cells": [
  {
   "cell_type": "markdown",
   "metadata": {},
   "source": [
    "# Database analysis\n",
    "\n",
    "Let's query the database and look at the games saved there!"
   ]
  },
  {
   "cell_type": "code",
   "execution_count": 4,
   "metadata": {},
   "outputs": [],
   "source": [
    "import logging\n",
    "from firebase_admin import credentials, firestore, initialize_app\n",
    "\n",
    "\n",
    "def load_games_from_database(collection_key: str = \"games\") -> dict[str, dict]:\n",
    "    # Fetch the service account key JSON file contents\n",
    "    key_file = \"./firebase_key_tricking_bees.json\"\n",
    "    cred = credentials.Certificate(key_file)\n",
    "    # Initialize the app with a service account, granting admin privileges\n",
    "    try:\n",
    "        initialize_app(cred)\n",
    "    except ValueError:\n",
    "        logging.debug(\"Not reading database again\")\n",
    "    db = firestore.client()\n",
    "    # 'spiele' is the old one, 'games' the newer one\n",
    "    game_ref = db.collection(collection_key)\n",
    "    games = {game.id: game.to_dict() for game in game_ref.stream()}\n",
    "    print(len(games))\n",
    "    return games"
   ]
  },
  {
   "cell_type": "code",
   "execution_count": 6,
   "metadata": {},
   "outputs": [
    {
     "name": "stdout",
     "output_type": "stream",
     "text": [
      "22\n"
     ]
    }
   ],
   "source": [
    "games = load_games_from_database()"
   ]
  },
  {
   "cell_type": "code",
   "execution_count": 33,
   "metadata": {},
   "outputs": [
    {
     "name": "stdout",
     "output_type": "stream",
     "text": [
      "560\n"
     ]
    },
    {
     "data": {
      "text/plain": [
       "560"
      ]
     },
     "execution_count": 33,
     "metadata": {},
     "output_type": "execute_result"
    }
   ],
   "source": [
    "# Generate a test object with loads of logEntries\n",
    "obj = [obj for obj in games.values() if \"logEntries\" in obj and len(obj[\"logEntries\"]) > 4][0]\n",
    "print(len(obj[\"logEntries\"]))\n",
    "obj[\"logEntries\"] = obj[\"logEntries\"][:14] * 40\n",
    "len(obj[\"logEntries\"])"
   ]
  },
  {
   "cell_type": "code",
   "execution_count": 32,
   "metadata": {},
   "outputs": [],
   "source": [
    "\n",
    "from google.cloud._helpers import _datetime_to_rfc3339\n",
    "\n",
    "class CustomEncoder(json.JSONEncoder):\n",
    "    def default(self, obj):\n",
    "        try:\n",
    "            return _datetime_to_rfc3339(obj)\n",
    "        except:\n",
    "            return super().default(obj)\n",
    "# obj = list(games.values())[0]\n",
    "import json\n",
    "\n",
    "with open(\"./test.json\", \"w\") as f:\n",
    "    json.dump(obj, f, cls=CustomEncoder)"
   ]
  },
  {
   "cell_type": "code",
   "execution_count": 14,
   "metadata": {},
   "outputs": [
    {
     "data": {
      "text/plain": [
       "61680.94117647059"
      ]
     },
     "execution_count": 14,
     "metadata": {},
     "output_type": "execute_result"
    }
   ],
   "source": [
    "1024**2/17"
   ]
  }
 ],
 "metadata": {
  "kernelspec": {
   "display_name": "tricking_bees",
   "language": "python",
   "name": "python3"
  },
  "language_info": {
   "codemirror_mode": {
    "name": "ipython",
    "version": 3
   },
   "file_extension": ".py",
   "mimetype": "text/x-python",
   "name": "python",
   "nbconvert_exporter": "python",
   "pygments_lexer": "ipython3",
   "version": "3.12.0"
  }
 },
 "nbformat": 4,
 "nbformat_minor": 2
}
